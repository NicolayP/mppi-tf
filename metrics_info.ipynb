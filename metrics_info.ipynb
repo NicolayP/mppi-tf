{
 "cells": [
  {
   "cell_type": "code",
   "execution_count": 16,
   "metadata": {},
   "outputs": [],
   "source": [
    "import torch\n",
    "from scripts.utils.utils import parse_param, get_device\n",
    "from scripts.models.nn_auv_v2 import AUVTraj, AUVPROXYDeltaV\n",
    "from scripts.training.loss_fct import TrajLoss\n",
    "from scripts.training_v2.training_utils import get_dataloader_tensor\n",
    "from scripts.utils.utils import read_files, to_euler, gen_img_3D_v2\n",
    "\n",
    "import matplotlib.pyplot as plt\n",
    "\n",
    "import os\n",
    "\n",
    "dir = \"data/csv/tests\"\n",
    "data_params = {\n",
    "    \"samples\": 10,\n",
    "    \"steps\": 15,\n",
    "    \"dir\": dir,\n",
    "    \"frame\": \"body\",\n",
    "    \"batch_size\": 10,\n",
    "    \"shuffle\": True,\n",
    "    \"num_workers\": 8\n",
    "}"
   ]
  },
  {
   "cell_type": "code",
   "execution_count": 17,
   "metadata": {},
   "outputs": [],
   "source": [
    "\n",
    "files = [f for f in os.listdir(data_params[\"dir\"]) if os.path.isfile(os.path.join(data_params[\"dir\"], f))]\n",
    "\n",
    "stats_file = os.path.join(data_params['dir'], \"stats\", \"stats.yaml\")\n",
    "stats = parse_param(stats_file)\n",
    "\n",
    "dfs = read_files(data_params[\"dir\"], files, \"train\")\n",
    "dl = get_dataloader_tensor(datafiles=dfs,\n",
    "                           tau=data_params[\"steps\"],\n",
    "                           frame=data_params[\"frame\"],\n",
    "                           stats=stats,\n",
    "                           batch_size=data_params[\"batch_size\"],\n",
    "                           shuffle=data_params[\"shuffle\"],\n",
    "                           num_workers=data_params[\"num_workers\"])"
   ]
  },
  {
   "cell_type": "code",
   "execution_count": 33,
   "metadata": {},
   "outputs": [],
   "source": [
    "tau = 50\n",
    "X, Y = dl.dataset.get_trajs(tau)\n",
    "device = get_device(0)\n",
    "model = AUVTraj({}, dt=0.1, limMax=None, limMin=None).to(device)\n",
    "dv_proxy = AUVPROXYDeltaV(Y[2].to(device)).to(device)\n",
    "model.auv_step.dv_pred = dv_proxy\n",
    "loss = TrajLoss(1., 0., 0.)"
   ]
  },
  {
   "cell_type": "code",
   "execution_count": 34,
   "metadata": {},
   "outputs": [],
   "source": [
    "poses_pred, vels_pred, dvs_pred = model(X[0].to(device), X[1].to(device), X[2].to(device))\n",
    "poses_pred = poses_pred.detach().cpu()\n",
    "vels_pred = vels_pred.detach().cpu()\n",
    "dvs_pred = dvs_pred.detach().cpu()\n",
    "poses_target = Y[0]\n",
    "vels_target = Y[1]\n",
    "dvs_target = Y[2]"
   ]
  },
  {
   "cell_type": "code",
   "execution_count": 35,
   "metadata": {},
   "outputs": [
    {
     "name": "stdout",
     "output_type": "stream",
     "text": [
      "---------------\n",
      "loss traj 0: 8.9813e-04\n",
      "---------------\n",
      "loss traj 1: 2.0443e-04\n",
      "---------------\n",
      "loss traj 2: 7.5247e-04\n",
      "---------------\n",
      "All traj loss: 6.1834e-04\n"
     ]
    }
   ],
   "source": [
    "for i in range(X[0].shape[0]):\n",
    "    # p_dict = {\n",
    "    #     \"model\": to_euler(poses_pred[i].data),\n",
    "    #     \"gt\": to_euler(poses_target[i].data)\n",
    "    # }\n",
    "\n",
    "    # v_dict = {\n",
    "    #     \"model\": vels_pred[i],\n",
    "    #     \"gt\": vels_target[i]\n",
    "    # }\n",
    "\n",
    "    # dv_dict = {\n",
    "    #     \"model\": dvs_pred[i],\n",
    "    #     \"gt\": dvs_target[i]\n",
    "    # }\n",
    "\n",
    "    # p_img, v_img, dv_img = gen_img_3D_v2(p_dict, v_dict, dv_dict, tau=tau)\n",
    "    l = loss(poses_pred[i], poses_target[i],\n",
    "             vels_pred[i], vels_target[i],\n",
    "             dvs_pred[i], dvs_target[i])\n",
    "\n",
    "    print(\"-\"*15)\n",
    "    print(\"loss traj {}: {:.4e}\".format(i, l))\n",
    "    # plt.figure()\n",
    "    # plt.imshow(p_img)\n",
    "    # plt.figure()\n",
    "    # plt.imshow(v_img)\n",
    "    # plt.figure()\n",
    "    # plt.imshow(dv_img)\n",
    "    # plt.show()\n",
    "    # plt.close(\"all\")\n",
    "\n",
    "all_l = loss(poses_pred, poses_target,\n",
    "             vels_pred, vels_target,\n",
    "             dvs_pred, dvs_target)\n",
    "print(\"-\"*15)\n",
    "print(\"All traj loss: {:.4e}\".format(all_l))"
   ]
  },
  {
   "cell_type": "code",
   "execution_count": null,
   "metadata": {},
   "outputs": [],
   "source": []
  }
 ],
 "metadata": {
  "kernelspec": {
   "display_name": "pp_local",
   "language": "python",
   "name": "python3"
  },
  "language_info": {
   "codemirror_mode": {
    "name": "ipython",
    "version": 3
   },
   "file_extension": ".py",
   "mimetype": "text/x-python",
   "name": "python",
   "nbconvert_exporter": "python",
   "pygments_lexer": "ipython3",
   "version": "3.9.16"
  },
  "orig_nbformat": 4
 },
 "nbformat": 4,
 "nbformat_minor": 2
}
