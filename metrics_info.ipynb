{
 "cells": [
  {
   "cell_type": "code",
   "execution_count": 11,
   "metadata": {},
   "outputs": [],
   "source": [
    "from scripts.utils.utils import parse_param, get_device\n",
    "from scripts.models.nn_auv_v2 import AUVTraj, AUVPROXYDeltaV\n",
    "from scripts.training.loss_fct import TrajLoss\n",
    "from scripts.training_v2.training_utils import get_dataloader_tensor\n",
    "from scripts.utils.utils import read_files\n",
    "\n",
    "import os\n",
    "\n",
    "dir = \"data/csv/training_csv\"\n",
    "data_params = {\n",
    "    \"samples\": 5000,\n",
    "    \"steps\": 15,\n",
    "    \"dir\": dir,\n",
    "    \"frame\": \"body\",\n",
    "    \"batch_size\": 10,\n",
    "    \"shuffle\": True,\n",
    "    \"num_workers\": 8\n",
    "}"
   ]
  },
  {
   "cell_type": "code",
   "execution_count": 12,
   "metadata": {},
   "outputs": [],
   "source": [
    "\n",
    "files = [f for f in os.listdir(data_params[\"dir\"]) if os.path.isfile(os.path.join(data_params[\"dir\"], f))]\n",
    "\n",
    "stats_file = os.path.join(data_params['dir'], \"stats\", \"stats.yaml\")\n",
    "stats = parse_param(stats_file)\n",
    "\n",
    "dfs = read_files(data_params[\"dir\"], files, \"train\")\n",
    "dl = get_dataloader_tensor(datafiles=dfs,\n",
    "                           tau=data_params[\"steps\"],\n",
    "                           frame=data_params[\"frame\"],\n",
    "                           stats=stats,\n",
    "                           batch_size=data_params[\"batch_size\"],\n",
    "                           shuffle=data_params[\"shuffle\"],\n",
    "                           num_workers=data_params[\"num_workers\"])"
   ]
  },
  {
   "cell_type": "code",
   "execution_count": 17,
   "metadata": {},
   "outputs": [],
   "source": [
    "tau = 50\n",
    "X, Y = dl.dataset.get_trajs(tau)\n",
    "device = get_device(0)\n",
    "model = AUVTraj({}, dt=0.1, limMax=None, limMin=None).to(device)\n",
    "dv_proxy = AUVPROXYDeltaV(Y[2].to(device)).to(device)\n",
    "model.auv_step.dv_pred = dv_proxy\n",
    "loss = TrajLoss(1., 10000., 10000.)"
   ]
  },
  {
   "cell_type": "code",
   "execution_count": 18,
   "metadata": {},
   "outputs": [],
   "source": [
    "poses_pred, vels_pred, dvs_pred = model(X[0].to(device), X[1].to(device), X[2].to(device))\n",
    "poses_pred = poses_pred.detach().cpu()\n",
    "vels_pred = vels_pred.detach().cpu()\n",
    "dvs_pred = dvs_pred.detach().cpu()\n",
    "poses_target = Y[0]\n",
    "vels_target = Y[1]\n",
    "dvs_target = Y[2]"
   ]
  },
  {
   "cell_type": "code",
   "execution_count": 19,
   "metadata": {},
   "outputs": [
    {
     "name": "stdout",
     "output_type": "stream",
     "text": [
      "---------------\n",
      "All traj loss: 1.1420e-03\n"
     ]
    }
   ],
   "source": [
    "all_l = loss(poses_pred, poses_target,\n",
    "             vels_pred, vels_target,\n",
    "             dvs_pred, dvs_target)\n",
    "print(\"-\"*15)\n",
    "print(\"All traj loss: {:.4e}\".format(all_l))"
   ]
  },
  {
   "cell_type": "code",
   "execution_count": null,
   "metadata": {},
   "outputs": [],
   "source": []
  }
 ],
 "metadata": {
  "kernelspec": {
   "display_name": "pp_local",
   "language": "python",
   "name": "python3"
  },
  "language_info": {
   "codemirror_mode": {
    "name": "ipython",
    "version": 3
   },
   "file_extension": ".py",
   "mimetype": "text/x-python",
   "name": "python",
   "nbconvert_exporter": "python",
   "pygments_lexer": "ipython3",
   "version": "3.9.16"
  },
  "orig_nbformat": 4
 },
 "nbformat": 4,
 "nbformat_minor": 2
}
